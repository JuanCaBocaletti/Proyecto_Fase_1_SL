{
 "cells": [
  {
   "cell_type": "markdown",
   "id": "10d88d1b-a0d4-4589-948e-262949c94422",
   "metadata": {},
   "source": [
    "# 4. Ingeniería de Características"
   ]
  },
  {
   "cell_type": "markdown",
   "id": "03dfce9d-dfbb-4239-a538-bf2d20b578e4",
   "metadata": {},
   "source": [
    "### Imputación de datos faltantes:"
   ]
  },
  {
   "cell_type": "code",
   "execution_count": 23,
   "id": "74237e39-a293-4c64-b80e-a095ac0d85a2",
   "metadata": {},
   "outputs": [],
   "source": [
    "import pandas as pd\n",
    "import numpy as np\n",
    "\n",
    "# Cargar el dataset\n",
    "df = pd.read_csv('Telco-Customer-Churn.csv')"
   ]
  },
  {
   "cell_type": "code",
   "execution_count": 12,
   "id": "ce124d17-94d1-4cab-a170-20f8e9e064b4",
   "metadata": {},
   "outputs": [],
   "source": [
    "# Imputación de variables numéricas\n",
    "df['TotalCharges'] = pd.to_numeric(df['TotalCharges'], errors='coerce')\n",
    "df['TotalCharges'].fillna(df['TotalCharges'].median(), inplace=True)"
   ]
  },
  {
   "cell_type": "code",
   "execution_count": 14,
   "id": "ac526690-948c-43b9-b49a-c14c1b5f51c4",
   "metadata": {},
   "outputs": [],
   "source": [
    "# Imputación de variables categóricas\n",
    "df.fillna(df.mode().iloc[0], inplace=True)"
   ]
  },
  {
   "cell_type": "markdown",
   "id": "3a369acb-59ff-496e-b9d9-1cc39a77250b",
   "metadata": {},
   "source": [
    "### Codificación de variables categóricas:"
   ]
  },
  {
   "cell_type": "code",
   "execution_count": 18,
   "id": "91eec52d-fbe2-4506-890d-31e4eea67a91",
   "metadata": {},
   "outputs": [],
   "source": [
    "# Codificación One-Hot para variables categóricas\n",
    "df = pd.get_dummies(df, drop_first=True)"
   ]
  },
  {
   "cell_type": "markdown",
   "id": "10cf7721-c74c-4a43-a895-5023b1470255",
   "metadata": {},
   "source": [
    "### Transformación de variables numéricas:"
   ]
  },
  {
   "cell_type": "code",
   "execution_count": 25,
   "id": "5fcd75fe-f647-4908-8566-99333e4a4cd7",
   "metadata": {},
   "outputs": [],
   "source": [
    "# Transformación logarítmica\n",
    "df['MonthlyCharges'] = np.log1p(df['MonthlyCharges'])"
   ]
  },
  {
   "cell_type": "code",
   "execution_count": null,
   "id": "c611a620-d5f9-40d5-9c96-47b425533596",
   "metadata": {},
   "outputs": [],
   "source": []
  }
 ],
 "metadata": {
  "kernelspec": {
   "display_name": "Python 3 (ipykernel)",
   "language": "python",
   "name": "python3"
  },
  "language_info": {
   "codemirror_mode": {
    "name": "ipython",
    "version": 3
   },
   "file_extension": ".py",
   "mimetype": "text/x-python",
   "name": "python",
   "nbconvert_exporter": "python",
   "pygments_lexer": "ipython3",
   "version": "3.11.5"
  }
 },
 "nbformat": 4,
 "nbformat_minor": 5
}
