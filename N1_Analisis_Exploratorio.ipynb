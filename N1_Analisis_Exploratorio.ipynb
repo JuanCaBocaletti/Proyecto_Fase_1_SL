{
 "cells": [
  {
   "cell_type": "markdown",
   "id": "1e75b8ed-1724-4e17-a369-7ff7fd81d064",
   "metadata": {},
   "source": [
    "# 1. Análisis Exploratorio de Datos (EDA)\n",
    "Cargar el dataset y realizar un análisis exploratorio básico para entender su estructura y características."
   ]
  },
  {
   "cell_type": "code",
   "execution_count": 31,
   "id": "96bf0286-38db-4faf-a2a6-ce42bca9eb79",
   "metadata": {},
   "outputs": [],
   "source": [
    "import pandas as pd\n",
    "\n",
    "# Cargar el dataset\n",
    "df = pd.read_csv('Telco-Customer-Churn.csv')"
   ]
  },
  {
   "cell_type": "markdown",
   "id": "c2d5710e-fa6c-484a-a8ac-58a0c0f68857",
   "metadata": {},
   "source": [
    "# 2. Resumen del dataset:"
   ]
  },
  {
   "cell_type": "code",
   "execution_count": 33,
   "id": "1280f7fc-a5dd-4fe2-9c15-4f63a8785e47",
   "metadata": {},
   "outputs": [
    {
     "name": "stdout",
     "output_type": "stream",
     "text": [
      "   customerID  gender  SeniorCitizen Partner Dependents  tenure PhoneService  \\\n",
      "0  7590-VHVEG  Female              0     Yes         No       1           No   \n",
      "1  5575-GNVDE    Male              0      No         No      34          Yes   \n",
      "2  3668-QPYBK    Male              0      No         No       2          Yes   \n",
      "3  7795-CFOCW    Male              0      No         No      45           No   \n",
      "4  9237-HQITU  Female              0      No         No       2          Yes   \n",
      "\n",
      "      MultipleLines InternetService OnlineSecurity  ... DeviceProtection  \\\n",
      "0  No phone service             DSL             No  ...               No   \n",
      "1                No             DSL            Yes  ...              Yes   \n",
      "2                No             DSL            Yes  ...               No   \n",
      "3  No phone service             DSL            Yes  ...              Yes   \n",
      "4                No     Fiber optic             No  ...               No   \n",
      "\n",
      "  TechSupport StreamingTV StreamingMovies        Contract PaperlessBilling  \\\n",
      "0          No          No              No  Month-to-month              Yes   \n",
      "1          No          No              No        One year               No   \n",
      "2          No          No              No  Month-to-month              Yes   \n",
      "3         Yes          No              No        One year               No   \n",
      "4          No          No              No  Month-to-month              Yes   \n",
      "\n",
      "               PaymentMethod MonthlyCharges  TotalCharges Churn  \n",
      "0           Electronic check          29.85         29.85    No  \n",
      "1               Mailed check          56.95        1889.5    No  \n",
      "2               Mailed check          53.85        108.15   Yes  \n",
      "3  Bank transfer (automatic)          42.30       1840.75    No  \n",
      "4           Electronic check          70.70        151.65   Yes  \n",
      "\n",
      "[5 rows x 21 columns]\n"
     ]
    }
   ],
   "source": [
    "# Ver las primeras filas del dataset\n",
    "print(df.head())"
   ]
  },
  {
   "cell_type": "code",
   "execution_count": 35,
   "id": "6a560700-7f05-44e6-a32e-57e7b5057cc4",
   "metadata": {},
   "outputs": [
    {
     "name": "stdout",
     "output_type": "stream",
     "text": [
      "       SeniorCitizen       tenure  MonthlyCharges\n",
      "count    7043.000000  7043.000000     7043.000000\n",
      "mean        0.162147    32.371149       64.761692\n",
      "std         0.368612    24.559481       30.090047\n",
      "min         0.000000     0.000000       18.250000\n",
      "25%         0.000000     9.000000       35.500000\n",
      "50%         0.000000    29.000000       70.350000\n",
      "75%         0.000000    55.000000       89.850000\n",
      "max         1.000000    72.000000      118.750000\n"
     ]
    }
   ],
   "source": [
    "# Resumen estadístico de las variables numéricas\n",
    "print(df.describe())"
   ]
  },
  {
   "cell_type": "code",
   "execution_count": 37,
   "id": "8d4d062a-f836-472a-bbf1-94a3e6b0395e",
   "metadata": {},
   "outputs": [
    {
     "name": "stdout",
     "output_type": "stream",
     "text": [
      "        customerID gender Partner Dependents PhoneService MultipleLines  \\\n",
      "count         7043   7043    7043       7043         7043          7043   \n",
      "unique        7043      2       2          2            2             3   \n",
      "top     7590-VHVEG   Male      No         No          Yes            No   \n",
      "freq             1   3555    3641       4933         6361          3390   \n",
      "\n",
      "       InternetService OnlineSecurity OnlineBackup DeviceProtection  \\\n",
      "count             7043           7043         7043             7043   \n",
      "unique               3              3            3                3   \n",
      "top        Fiber optic             No           No               No   \n",
      "freq              3096           3498         3088             3095   \n",
      "\n",
      "       TechSupport StreamingTV StreamingMovies        Contract  \\\n",
      "count         7043        7043            7043            7043   \n",
      "unique           3           3               3               3   \n",
      "top             No          No              No  Month-to-month   \n",
      "freq          3473        2810            2785            3875   \n",
      "\n",
      "       PaperlessBilling     PaymentMethod TotalCharges Churn  \n",
      "count              7043              7043         7043  7043  \n",
      "unique                2                 4         6531     2  \n",
      "top                 Yes  Electronic check                 No  \n",
      "freq               4171              2365           11  5174  \n"
     ]
    }
   ],
   "source": [
    "# Resumen de las variables categóricas\n",
    "print(df.describe(include=['O']))"
   ]
  },
  {
   "cell_type": "code",
   "execution_count": 39,
   "id": "cf4ad79f-2bcc-48f7-8564-0b48ce01f5b5",
   "metadata": {},
   "outputs": [
    {
     "name": "stdout",
     "output_type": "stream",
     "text": [
      "<class 'pandas.core.frame.DataFrame'>\n",
      "RangeIndex: 7043 entries, 0 to 7042\n",
      "Data columns (total 21 columns):\n",
      " #   Column            Non-Null Count  Dtype  \n",
      "---  ------            --------------  -----  \n",
      " 0   customerID        7043 non-null   object \n",
      " 1   gender            7043 non-null   object \n",
      " 2   SeniorCitizen     7043 non-null   int64  \n",
      " 3   Partner           7043 non-null   object \n",
      " 4   Dependents        7043 non-null   object \n",
      " 5   tenure            7043 non-null   int64  \n",
      " 6   PhoneService      7043 non-null   object \n",
      " 7   MultipleLines     7043 non-null   object \n",
      " 8   InternetService   7043 non-null   object \n",
      " 9   OnlineSecurity    7043 non-null   object \n",
      " 10  OnlineBackup      7043 non-null   object \n",
      " 11  DeviceProtection  7043 non-null   object \n",
      " 12  TechSupport       7043 non-null   object \n",
      " 13  StreamingTV       7043 non-null   object \n",
      " 14  StreamingMovies   7043 non-null   object \n",
      " 15  Contract          7043 non-null   object \n",
      " 16  PaperlessBilling  7043 non-null   object \n",
      " 17  PaymentMethod     7043 non-null   object \n",
      " 18  MonthlyCharges    7043 non-null   float64\n",
      " 19  TotalCharges      7043 non-null   object \n",
      " 20  Churn             7043 non-null   object \n",
      "dtypes: float64(1), int64(2), object(18)\n",
      "memory usage: 1.1+ MB\n",
      "None\n"
     ]
    }
   ],
   "source": [
    "# Información general del dataset\n",
    "print(df.info())"
   ]
  },
  {
   "cell_type": "markdown",
   "id": "878f4657-cf1c-4845-a7f3-abc32d2afdc0",
   "metadata": {},
   "source": [
    "### Como se distribuye inicialmente la data de la variable a predecir:"
   ]
  },
  {
   "cell_type": "code",
   "execution_count": 41,
   "id": "598a2058-0558-474e-a8c2-eb0a363be81f",
   "metadata": {},
   "outputs": [
    {
     "data": {
      "image/png": "[encoded data removed]",
      "text/plain": [
       "<Figure size 640x480 with 1 Axes>"
      ]
     },
     "metadata": {},
     "output_type": "display_data"
    }
   ],
   "source": [
    "import seaborn as sns\n",
    "import matplotlib.pyplot as plt\n",
    "\n",
    "# Distribución de la variable 'Churn'\n",
    "sns.countplot(x='Churn', data=df)\n",
    "plt.title('Distribución de Churn')\n",
    "plt.show()"
   ]
  },
  {
   "cell_type": "markdown",
   "id": "751f88dd-7cef-48e0-9e1c-a0886e750e04",
   "metadata": {},
   "source": [
    "# 3. Selección de Variables\n",
    "Variable a predecir: 'Churn' (categórica)\n",
    "Variables predictoras: Todas las demás columnas"
   ]
  }
 ],
 "metadata": {
  "kernelspec": {
   "display_name": "Python 3 (ipykernel)",
   "language": "python",
   "name": "python3"
  },
  "language_info": {
   "codemirror_mode": {
    "name": "ipython",
    "version": 3
   },
   "file_extension": ".py",
   "mimetype": "text/x-python",
   "name": "python",
   "nbconvert_exporter": "python",
   "pygments_lexer": "ipython3",
   "version": "3.11.5"
  }
 },
 "nbformat": 4,
 "nbformat_minor": 5
}
